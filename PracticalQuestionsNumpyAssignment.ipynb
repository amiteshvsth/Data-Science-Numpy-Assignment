{
 "cells": [
  {
   "cell_type": "markdown",
   "id": "81bca123-916b-4569-bcdc-c36ccc3174bf",
   "metadata": {},
   "source": [
    "# Practical Questions"
   ]
  },
  {
   "cell_type": "markdown",
   "id": "eb0dc13b-c7b7-4a33-a496-982547ec0228",
   "metadata": {},
   "source": [
    "# Q1. Create a 3x3 NumPy array with random integers between 1 and 100. Then, interchange its rows and columns."
   ]
  },
  {
   "cell_type": "code",
   "execution_count": 1,
   "id": "4dff722a-bdea-4db7-9d3e-763d404d0797",
   "metadata": {},
   "outputs": [
    {
     "name": "stdout",
     "output_type": "stream",
     "text": [
      "Original array:\n",
      "[[13 39 92]\n",
      " [12  2 57]\n",
      " [53 13 11]]\n",
      "\n",
      "Transposed array:\n",
      "[[13 12 53]\n",
      " [39  2 13]\n",
      " [92 57 11]]\n"
     ]
    }
   ],
   "source": [
    "import numpy as np\n",
    "\n",
    "# Create a 3x3 NumPy array with random integers between 1 and 100\n",
    "array = np.random.randint(1, 101, size=(3, 3))\n",
    "\n",
    "# Print the original array\n",
    "print(\"Original array:\")\n",
    "print(array)\n",
    "\n",
    "# Interchange rows and columns (transpose the array)\n",
    "transposed_array = array.T\n",
    "\n",
    "# Print the transposed array\n",
    "print(\"\\nTransposed array:\")\n",
    "print(transposed_array)\n"
   ]
  },
  {
   "cell_type": "markdown",
   "id": "e7fde74b-58ba-44bc-a307-d33242dcdae8",
   "metadata": {},
   "source": [
    "# Q2. Generate a 1D NumPy array with 10 elements. Reshape it into a 2x5 array, then into a 5x2 array."
   ]
  },
  {
   "cell_type": "code",
   "execution_count": 2,
   "id": "39f292fe-3335-4708-a120-991dc003cdcc",
   "metadata": {},
   "outputs": [
    {
     "name": "stdout",
     "output_type": "stream",
     "text": [
      "Original 1D array:\n",
      "[0 1 2 3 4 5 6 7 8 9]\n",
      "\n",
      "Reshaped to 2x5 array:\n",
      "[[0 1 2 3 4]\n",
      " [5 6 7 8 9]]\n",
      "\n",
      "Reshaped to 5x2 array:\n",
      "[[0 1]\n",
      " [2 3]\n",
      " [4 5]\n",
      " [6 7]\n",
      " [8 9]]\n"
     ]
    }
   ],
   "source": [
    "import numpy as np\n",
    "\n",
    "# Generate a 1D NumPy array with 10 elements\n",
    "array = np.arange(10)\n",
    "\n",
    "# Print the original array\n",
    "print(\"Original 1D array:\")\n",
    "print(array)\n",
    "\n",
    "# Reshape the array into a 2x5 array\n",
    "reshaped_2x5 = array.reshape(2, 5)\n",
    "print(\"\\nReshaped to 2x5 array:\")\n",
    "print(reshaped_2x5)\n",
    "\n",
    "# Reshape the array into a 5x2 array\n",
    "reshaped_5x2 = array.reshape(5, 2)\n",
    "print(\"\\nReshaped to 5x2 array:\")\n",
    "print(reshaped_5x2)\n"
   ]
  },
  {
   "cell_type": "markdown",
   "id": "4d4dbf4b-8f40-4c16-81fb-7fb701729492",
   "metadata": {},
   "source": [
    "\n",
    "# Q3. Create a 4x4 NumPy array with random float values. Add a border of zeros around it, resulting in a 6x6 array.\n"
   ]
  },
  {
   "cell_type": "code",
   "execution_count": 3,
   "id": "8bd3f362-6be5-4fb6-9028-3edfe803f97e",
   "metadata": {},
   "outputs": [
    {
     "name": "stdout",
     "output_type": "stream",
     "text": [
      "Original 4x4 array:\n",
      "[[0.2037417  0.30884895 0.81307318 0.74700227]\n",
      " [0.0256777  0.915862   0.63749283 0.16803073]\n",
      " [0.5261983  0.90554842 0.84056044 0.6995385 ]\n",
      " [0.23223469 0.71138363 0.98131261 0.16951231]]\n",
      "\n",
      "6x6 array with border of zeros:\n",
      "[[0.         0.         0.         0.         0.         0.        ]\n",
      " [0.         0.2037417  0.30884895 0.81307318 0.74700227 0.        ]\n",
      " [0.         0.0256777  0.915862   0.63749283 0.16803073 0.        ]\n",
      " [0.         0.5261983  0.90554842 0.84056044 0.6995385  0.        ]\n",
      " [0.         0.23223469 0.71138363 0.98131261 0.16951231 0.        ]\n",
      " [0.         0.         0.         0.         0.         0.        ]]\n"
     ]
    }
   ],
   "source": [
    "import numpy as np\n",
    "\n",
    "# Create a 4x4 NumPy array with random float values\n",
    "array = np.random.random((4, 4))\n",
    "\n",
    "# Print the original array\n",
    "print(\"Original 4x4 array:\")\n",
    "print(array)\n",
    "\n",
    "# Add a border of zeros around the array\n",
    "bordered_array = np.pad(array, pad_width=1, mode='constant', constant_values=0)\n",
    "\n",
    "# Print the resulting 6x6 array\n",
    "print(\"\\n6x6 array with border of zeros:\")\n",
    "print(bordered_array)\n"
   ]
  },
  {
   "cell_type": "markdown",
   "id": "a1357f09-b46a-4dea-90d5-0d3beee03ece",
   "metadata": {},
   "source": [
    "\n",
    "\n",
    "# Q4. Using NumPy, create an array of integers from 10 to 60 with a step of 5.\n",
    "\n"
   ]
  },
  {
   "cell_type": "code",
   "execution_count": 8,
   "id": "0bd517a0-ba01-4839-979b-f519932ab171",
   "metadata": {},
   "outputs": [
    {
     "name": "stdout",
     "output_type": "stream",
     "text": [
      "Array of integers from 10 to 60 with a step of 5:\n",
      "[10 15 20 25 30 35 40 45 50 55 60]\n"
     ]
    }
   ],
   "source": [
    "import numpy as np\n",
    "\n",
    "# Create an array of integers from 10 to 60 with a step of 5\n",
    "array = np.arange(10, 61, 5)\n",
    "\n",
    "# Print the resulting array\n",
    "print(\"Array of integers from 10 to 60 with a step of 5:\")\n",
    "print(array)\n"
   ]
  },
  {
   "cell_type": "markdown",
   "id": "5a1150a7-b84e-486d-b476-8d0265993336",
   "metadata": {},
   "source": [
    "\n",
    "# Q5. Create a NumPy array of strings ['python', 'numpy', 'pandas']. Apply different case transformations (uppercase, lowercase, title case, etc.) to each element.\n",
    "\n"
   ]
  },
  {
   "cell_type": "code",
   "execution_count": 9,
   "id": "1fc9d0a3-cb76-471c-98ff-779e9524dbcb",
   "metadata": {},
   "outputs": [
    {
     "name": "stdout",
     "output_type": "stream",
     "text": [
      "Original array:\n",
      "['python' 'numpy' 'pandas']\n",
      "\n",
      "Uppercase transformation:\n",
      "['PYTHON' 'NUMPY' 'PANDAS']\n",
      "\n",
      "Lowercase transformation:\n",
      "['python' 'numpy' 'pandas']\n",
      "\n",
      "Title case transformation:\n",
      "['Python' 'Numpy' 'Pandas']\n"
     ]
    }
   ],
   "source": [
    "import numpy as np\n",
    "\n",
    "# Create a NumPy array of strings\n",
    "array = np.array(['python', 'numpy', 'pandas'])\n",
    "\n",
    "# Apply different case transformations\n",
    "uppercase_array = np.char.upper(array)\n",
    "lowercase_array = np.char.lower(array)\n",
    "titlecase_array = np.char.title(array)\n",
    "\n",
    "# Print the original array and the transformed arrays\n",
    "print(\"Original array:\")\n",
    "print(array)\n",
    "\n",
    "print(\"\\nUppercase transformation:\")\n",
    "print(uppercase_array)\n",
    "\n",
    "print(\"\\nLowercase transformation:\")\n",
    "print(lowercase_array)\n",
    "\n",
    "print(\"\\nTitle case transformation:\")\n",
    "print(titlecase_array)\n"
   ]
  },
  {
   "cell_type": "markdown",
   "id": "8c06d71d-ae1e-4651-bce4-7e7a9110e1a0",
   "metadata": {},
   "source": [
    "\n",
    "# Q6. Generate a NumPy array of words. Insert a space between each character of every word in the array.\n",
    "\n"
   ]
  },
  {
   "cell_type": "code",
   "execution_count": 10,
   "id": "6d97b5ab-5c95-4b48-a6e9-e5c7c49912f3",
   "metadata": {},
   "outputs": [
    {
     "name": "stdout",
     "output_type": "stream",
     "text": [
      "Original array:\n",
      "['python' 'numpy' 'pandas']\n",
      "\n",
      "Array with spaces between characters:\n",
      "['p y t h o n' 'n u m p y' 'p a n d a s']\n"
     ]
    }
   ],
   "source": [
    "import numpy as np\n",
    "\n",
    "# Create a NumPy array of words\n",
    "words_array = np.array(['python', 'numpy', 'pandas'])\n",
    "\n",
    "# Insert a space between each character of every word\n",
    "spaced_words_array = np.char.join(' ', words_array)\n",
    "\n",
    "# Print the original array and the transformed array\n",
    "print(\"Original array:\")\n",
    "print(words_array)\n",
    "\n",
    "print(\"\\nArray with spaces between characters:\")\n",
    "print(spaced_words_array)\n"
   ]
  },
  {
   "cell_type": "markdown",
   "id": "3e55e36f-5072-4cf0-bbb5-a827852dd0fc",
   "metadata": {},
   "source": [
    "\n",
    "# Q7. Create two 2D NumPy arrays and perform element-wise addition, subtraction, multiplication, and division.\n",
    "\n"
   ]
  },
  {
   "cell_type": "code",
   "execution_count": 11,
   "id": "15dc32ec-5b66-4c8d-bdb0-b4ba4a263136",
   "metadata": {},
   "outputs": [
    {
     "name": "stdout",
     "output_type": "stream",
     "text": [
      "Array 1:\n",
      "[[1 2 3]\n",
      " [4 5 6]]\n",
      "\n",
      "Array 2:\n",
      "[[ 7  8  9]\n",
      " [10 11 12]]\n",
      "\n",
      "Element-wise addition:\n",
      "[[ 8 10 12]\n",
      " [14 16 18]]\n",
      "\n",
      "Element-wise subtraction:\n",
      "[[-6 -6 -6]\n",
      " [-6 -6 -6]]\n",
      "\n",
      "Element-wise multiplication:\n",
      "[[ 7 16 27]\n",
      " [40 55 72]]\n",
      "\n",
      "Element-wise division:\n",
      "[[0.14285714 0.25       0.33333333]\n",
      " [0.4        0.45454545 0.5       ]]\n"
     ]
    }
   ],
   "source": [
    "import numpy as np\n",
    "\n",
    "# Create two 2D NumPy arrays\n",
    "array1 = np.array([[1, 2, 3], [4, 5, 6]])\n",
    "array2 = np.array([[7, 8, 9], [10, 11, 12]])\n",
    "\n",
    "# Perform element-wise addition\n",
    "addition = array1 + array2\n",
    "\n",
    "# Perform element-wise subtraction\n",
    "subtraction = array1 - array2\n",
    "\n",
    "# Perform element-wise multiplication\n",
    "multiplication = array1 * array2\n",
    "\n",
    "# Perform element-wise division\n",
    "# Add a small constant to avoid division by zero if necessary\n",
    "division = array1 / (array2 + 1e-10)\n",
    "\n",
    "# Print the results\n",
    "print(\"Array 1:\")\n",
    "print(array1)\n",
    "\n",
    "print(\"\\nArray 2:\")\n",
    "print(array2)\n",
    "\n",
    "print(\"\\nElement-wise addition:\")\n",
    "print(addition)\n",
    "\n",
    "print(\"\\nElement-wise subtraction:\")\n",
    "print(subtraction)\n",
    "\n",
    "print(\"\\nElement-wise multiplication:\")\n",
    "print(multiplication)\n",
    "\n",
    "print(\"\\nElement-wise division:\")\n",
    "print(division)\n"
   ]
  },
  {
   "cell_type": "markdown",
   "id": "85d0b224-b928-421f-961f-b47cdf6e1ced",
   "metadata": {},
   "source": [
    "\n",
    "# Q8. Use NumPy to create a 5x5 identity matrix, then extract its diagonal elements.\n",
    "\n"
   ]
  },
  {
   "cell_type": "code",
   "execution_count": 12,
   "id": "c3f0cd45-c75b-4437-9d6a-1b6925872e94",
   "metadata": {},
   "outputs": [
    {
     "name": "stdout",
     "output_type": "stream",
     "text": [
      "5x5 Identity Matrix:\n",
      "[[1. 0. 0. 0. 0.]\n",
      " [0. 1. 0. 0. 0.]\n",
      " [0. 0. 1. 0. 0.]\n",
      " [0. 0. 0. 1. 0.]\n",
      " [0. 0. 0. 0. 1.]]\n",
      "\n",
      "Diagonal elements:\n",
      "[1. 1. 1. 1. 1.]\n"
     ]
    }
   ],
   "source": [
    "import numpy as np\n",
    "\n",
    "# Create a 5x5 identity matrix\n",
    "identity_matrix = np.eye(5)\n",
    "\n",
    "# Extract the diagonal elements\n",
    "diagonal_elements = np.diagonal(identity_matrix)\n",
    "\n",
    "# Print the identity matrix and its diagonal elements\n",
    "print(\"5x5 Identity Matrix:\")\n",
    "print(identity_matrix)\n",
    "\n",
    "print(\"\\nDiagonal elements:\")\n",
    "print(diagonal_elements)\n"
   ]
  },
  {
   "cell_type": "markdown",
   "id": "33b38330-ba7a-4947-a6f5-eda0a3b6f8bc",
   "metadata": {},
   "source": [
    "\n",
    "# Q9. Generate a NumPy array of 100 random integers between 0 and 1000. Find and display all prime numbers in this array.\n",
    "\n"
   ]
  },
  {
   "cell_type": "code",
   "execution_count": 13,
   "id": "2f0e018e-171c-452d-9028-6159f3e1e5b7",
   "metadata": {},
   "outputs": [
    {
     "name": "stdout",
     "output_type": "stream",
     "text": [
      "Array of random integers:\n",
      "[642 815 477 204 499 936 761 107 437 248 142 344 156 103 950  46 629 669\n",
      " 638 575 438 971 920 869 972 439  48 381 953 106 694 373  62 123 764 308\n",
      " 694 212 607 379 512 839 108 712 888 599 504 912 298 808 543 665 550 226\n",
      " 429 185 206 212 590 990 515 141 900 677 290 140 804 887 316 411 806 100\n",
      " 917  67 384 359 672 249 988 568 485 244 633 538 841 756 442  87 925 831\n",
      " 155 420 652 756 207 981 821 970 984  60]\n",
      "\n",
      "Prime numbers in the array:\n",
      "[499, 761, 107, 103, 971, 439, 953, 373, 607, 379, 839, 599, 677, 887, 67, 359, 821]\n"
     ]
    }
   ],
   "source": [
    "import numpy as np\n",
    "\n",
    "# Generate a NumPy array of 100 random integers between 0 and 1000\n",
    "array = np.random.randint(0, 1001, size=100)\n",
    "\n",
    "# Define a function to check if a number is prime\n",
    "def is_prime(n):\n",
    "    if n <= 1:\n",
    "        return False\n",
    "    if n <= 3:\n",
    "        return True\n",
    "    if n % 2 == 0 or n % 3 == 0:\n",
    "        return False\n",
    "    i = 5\n",
    "    while i * i <= n:\n",
    "        if n % i == 0 or n % (i + 2) == 0:\n",
    "            return False\n",
    "        i += 6\n",
    "    return True\n",
    "\n",
    "# Find all prime numbers in the array\n",
    "prime_numbers = [num for num in array if is_prime(num)]\n",
    "\n",
    "# Print the array and the prime numbers found\n",
    "print(\"Array of random integers:\")\n",
    "print(array)\n",
    "\n",
    "print(\"\\nPrime numbers in the array:\")\n",
    "print(prime_numbers)\n"
   ]
  },
  {
   "cell_type": "markdown",
   "id": "28326d2a-002e-47c9-a929-251f0bb1c9de",
   "metadata": {},
   "source": [
    "\n",
    "# Q10. Create a NumPy array representing daily temperatures for a month. Calculate and display the weekly averages.\n"
   ]
  },
  {
   "cell_type": "code",
   "execution_count": 15,
   "id": "d4ef513a-14af-4688-8aef-cd053185cc9c",
   "metadata": {},
   "outputs": [
    {
     "name": "stdout",
     "output_type": "stream",
     "text": [
      "Daily temperatures for the month:\n",
      "[ 15  30  12 -10   5  30  32   6  19  15  32  10  -3   5  29  -3  23   4\n",
      "   5  -8   4   5  -1  31   7   9  31  26  -8  34]\n",
      "\n",
      "Weekly temperatures:\n",
      "[[ 15  30  12 -10   5  30]\n",
      " [ 32   6  19  15  32  10]\n",
      " [ -3   5  29  -3  23   4]\n",
      " [  5  -8   4   5  -1  31]\n",
      " [  7   9  31  26  -8  34]]\n",
      "\n",
      "Weekly averages:\n",
      "[13.66666667 19.          9.16666667  6.         16.5       ]\n"
     ]
    }
   ],
   "source": [
    "import numpy as np\n",
    "\n",
    "# Create a NumPy array representing daily temperatures for a month (30 days)\n",
    "# Here we use random temperatures between -10 and 35 degrees Celsius\n",
    "daily_temperatures = np.random.randint(-10, 36, size=30)\n",
    "\n",
    "# Reshape the array into a 2D array where each row represents a week\n",
    "# Assuming 5 weeks of 6 days each\n",
    "weekly_temperatures = daily_temperatures.reshape(5, 6)\n",
    "\n",
    "# Calculate the weekly averages\n",
    "weekly_averages = np.mean(weekly_temperatures, axis=1)\n",
    "\n",
    "# Print the daily temperatures and weekly averages\n",
    "print(\"Daily temperatures for the month:\")\n",
    "print(daily_temperatures)\n",
    "\n",
    "print(\"\\nWeekly temperatures:\")\n",
    "print(weekly_temperatures)\n",
    "\n",
    "print(\"\\nWeekly averages:\")\n",
    "print(weekly_averages)\n"
   ]
  },
  {
   "cell_type": "code",
   "execution_count": null,
   "id": "b9654490-bb2d-4ca1-8551-a97c2f2d54d5",
   "metadata": {},
   "outputs": [],
   "source": []
  }
 ],
 "metadata": {
  "kernelspec": {
   "display_name": "Python 3 (ipykernel)",
   "language": "python",
   "name": "python3"
  },
  "language_info": {
   "codemirror_mode": {
    "name": "ipython",
    "version": 3
   },
   "file_extension": ".py",
   "mimetype": "text/x-python",
   "name": "python",
   "nbconvert_exporter": "python",
   "pygments_lexer": "ipython3",
   "version": "3.10.8"
  }
 },
 "nbformat": 4,
 "nbformat_minor": 5
}
